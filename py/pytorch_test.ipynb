{
 "cells": [
  {
   "cell_type": "code",
   "execution_count": 1,
   "id": "9554ed1b",
   "metadata": {},
   "outputs": [],
   "source": [
    "import torch"
   ]
  },
  {
   "cell_type": "code",
   "execution_count": 2,
   "id": "b7380929",
   "metadata": {},
   "outputs": [
    {
     "data": {
      "text/plain": [
       "(tensor([-4.], dtype=torch.float64, requires_grad=True),\n",
       " tensor([-20.], dtype=torch.float64, grad_fn=<AddBackward0>),\n",
       " tensor([46.], dtype=torch.float64))"
      ]
     },
     "execution_count": 2,
     "metadata": {},
     "output_type": "execute_result"
    }
   ],
   "source": [
    "x = torch.Tensor([-4.0]).double()\n",
    "x.requires_grad = True\n",
    "z = 2 * x + 2 + x\n",
    "q = z.relu() + z * x\n",
    "h = (z * z).relu()\n",
    "y = h + q + q * x\n",
    "y.backward()\n",
    "\n",
    "x, y, x.grad,"
   ]
  },
  {
   "cell_type": "code",
   "execution_count": 3,
   "id": "d92efa9f",
   "metadata": {},
   "outputs": [
    {
     "data": {
      "text/plain": [
       "(tensor([3.], dtype=torch.float64, requires_grad=True),\n",
       " tensor([81.], dtype=torch.float64, grad_fn=<PowBackward0>),\n",
       " tensor([108.], dtype=torch.float64))"
      ]
     },
     "execution_count": 3,
     "metadata": {},
     "output_type": "execute_result"
    }
   ],
   "source": [
    "x = torch.Tensor([3.0]).double()\n",
    "x.requires_grad = True\n",
    "y = x ** 4\n",
    "\n",
    "y.backward()\n",
    "\n",
    "x, y, x.grad"
   ]
  },
  {
   "cell_type": "code",
   "execution_count": 4,
   "id": "cd1fc68b",
   "metadata": {},
   "outputs": [
    {
     "data": {
      "text/plain": [
       "(tensor([138.8338], dtype=torch.float64),\n",
       " tensor([645.5773], dtype=torch.float64),\n",
       " tensor([24.7041], dtype=torch.float64, grad_fn=<AddBackward0>))"
      ]
     },
     "execution_count": 4,
     "metadata": {},
     "output_type": "execute_result"
    }
   ],
   "source": [
    "a = torch.Tensor([-4.0]).double()\n",
    "b = torch.Tensor([2.0]).double()\n",
    "a.requires_grad = True\n",
    "b.requires_grad = True\n",
    "c = a + b\n",
    "d = a * b + b**3\n",
    "c = c + c + 1\n",
    "c = c + 1 + c + (-a)\n",
    "d = d + d * 2 + (b + a).relu()\n",
    "d = d + 3 * d + (b - a).relu()\n",
    "e = c - d\n",
    "f = e**2\n",
    "g = f / 2.0\n",
    "g = g + 10.0 / f\n",
    "g.backward()\n",
    "\n",
    "a.grad, b.grad, g"
   ]
  }
 ],
 "metadata": {
  "kernelspec": {
   "display_name": "Python 3 (ipykernel)",
   "language": "python",
   "name": "python3"
  },
  "language_info": {
   "codemirror_mode": {
    "name": "ipython",
    "version": 3
   },
   "file_extension": ".py",
   "mimetype": "text/x-python",
   "name": "python",
   "nbconvert_exporter": "python",
   "pygments_lexer": "ipython3",
   "version": "3.9.16"
  }
 },
 "nbformat": 4,
 "nbformat_minor": 5
}
